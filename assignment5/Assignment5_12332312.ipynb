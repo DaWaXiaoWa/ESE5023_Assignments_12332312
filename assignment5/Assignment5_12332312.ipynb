{
 "cells": [
  {
   "cell_type": "markdown",
   "id": "abf2d492",
   "metadata": {},
   "source": [
    "Assignment 5 (due on 12/20)\n",
    "\n",
    "Student：郑各希（12332312），Gtihub：DaWaXiaoWa\n",
    "\n",
    "批改人：赵淑慧\n",
    "\n",
    "得分：33/40\n",
    "\n",
    "Bonus：14/15\n",
    "\n",
    "认真绘图写报告+1"
   ]
  },
  {
   "cell_type": "markdown",
   "id": "d2ce9af5",
   "metadata": {},
   "source": [
    "1.1 12/15 gamma转为ppm的系数为2.13非2.12；时间不匹配，结果中第一项3.4741784038应为1986年CO2的ppm，由于整体前移所以少算了2004年的数据\n",
    "\n",
    "1.2 18/20 时间不匹配，理由同上\n",
    "\n",
    "1.3 3/5 时间不匹配，且线性拟合年份不一致\n",
    "\n",
    "Bonus 14/15 应将observed data也画出来，数据来源如下：  \n",
    "the assumed values from the ice cores from Antarctica until 1960:  \n",
    "\thttps://data.ess-dive.lbl.gov/view/doi:10.3334/CDIAC/ATG.011  \n",
    "\tlawdome.smoothed.yr75  \n",
    "the observed values at Mauna Loa after 1960:  \n",
    "\thttps://gml.noaa.gov/ccgg/trends/data.html  \n",
    "\tMauna Loa CO2 annual mean data (CSV)  "
   ]
  }
 ],
 "metadata": {
  "kernelspec": {
   "display_name": "Python 3 (ipykernel)",
   "language": "python",
   "name": "python3"
  },
  "language_info": {
   "codemirror_mode": {
    "name": "ipython",
    "version": 3
   },
   "file_extension": ".py",
   "mimetype": "text/x-python",
   "name": "python",
   "nbconvert_exporter": "python",
   "pygments_lexer": "ipython3",
   "version": "3.8.8"
  }
 },
 "nbformat": 4,
 "nbformat_minor": 5
}
